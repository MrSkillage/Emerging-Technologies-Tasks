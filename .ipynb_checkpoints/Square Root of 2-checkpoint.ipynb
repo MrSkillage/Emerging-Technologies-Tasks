{
 "cells": [
  {
   "cell_type": "markdown",
   "metadata": {},
   "source": [
    "# Tasks\n",
    "This is a jupyter file containing my solutions to the tasks assessments in my 4th year module \"Emerging Technologies\". Author Conor Rabbitte (conorrrabbitte.it3@gmail.com)\n",
    "\n",
    "***"
   ]
  },
  {
   "cell_type": "markdown",
   "metadata": {},
   "source": [
    "## Task: Calculate the square root of 2.\n",
    "The first task is to create a python function called **sqrt2** that calculates and prints to the screen the square root of 2 to 100 decimal places. I will achieve this by using a well known and popular root-finding algorithm known as Newton's method (also known as Newton-Raphson method) [1].\n",
    "\n",
    "$$ x_{n+1} = x_{n} - \\frac{f(x_{0})}{f'(x_{0})} $$\n",
    "\n",
    "### Understanding Newton's Method\n",
    "Newton's method \"produces successively better approximations to the roots (or zeroes) of a real-valued function\". This means that with ever iteratation we get closer to the \"real-answer\" of what the root of a given number is. Starting with the function $f$ defined for $x$ we can get the derivative [3] $f'$ and with an initial guess of $x_{0}$ for the root of $f$. Then we can use the algorithm above to solve for an answer $x_{1}$ and repeat the algorithm.\n",
    "\n",
    "### Example\n",
    "Lets find the square root of a number $a$, that is to say the positive number $x$ such that $x^2=a$. By finding the zero of the function $f(x)=x^2-a$ we can find the derivative $f'(x)=2x$.\n",
    "For example, if we try to find the sqaure root of 2, $a$, with an initial guess $x_{0}=1.4$ the sequence given by Newton's method is:\n",
    "\n",
    "$$ x_{1} = x_{0}-\\frac{f(x_{0})}{f'(x_{0})} = 1.4-\\frac{1.4^2-2}{2*1.4} = 1.4142$$\n",
    "\n",
    "If we then repeat this method using the previous answer as $x_{1}=1.4142$ we will get better approximation of the root.\n",
    "\n",
    "$$ x_{2} = x_{1}-\\frac{f(x_{1})}{f'(x_{1})} = 1.4142-\\frac{1.4142^2-2}{2*1.4142} = 1.414213562$$\n",
    "\n",
    "The inital guess of $x_{0}=1.4$ comes from the graph below.\n",
    "\n",
    "[1] Newton's Method; Wikipedia; https://en.wikipedia.org/wiki/Newton%27s_method\n",
    "\n",
    "[2] A Tour of Go; Exercise: Loops and Functions; https://tour.golang.org/flowcontrol/8\n",
    "\n",
    "[3] Derivative; Wikipedia; https://en.wikipedia.org/wiki/Derivative"
   ]
  },
  {
   "cell_type": "markdown",
   "metadata": {},
   "source": [
    "### Python code of the function"
   ]
  },
  {
   "cell_type": "code",
   "execution_count": 10,
   "metadata": {},
   "outputs": [],
   "source": [
    "def sqrt2():\n",
    "    \"\"\"\n",
    "    A function used to test and calculate the square root of the number 2 using Newton's method.\n",
    "    \"\"\"\n",
    "    # Square root number a.\n",
    "    a = 2\n",
    "    # Initial guess for the square root x.\n",
    "    x = 1.4\n",
    "    # Loop until we're happy with the accuracy (no more then 1e -14).\n",
    "    while abs(a - (x * x)) > 0.00000000000001:\n",
    "        # Calculate a better guess for the square root.\n",
    "        x -= (x * x - a) / (a * x)\n",
    "    # Store result of x in result.\n",
    "    result = x\n",
    "    # Print result to screen to 100 decimal places.\n",
    "    print(\"%.100f\" % result)    "
   ]
  },
  {
   "cell_type": "markdown",
   "metadata": {},
   "source": [
    "### Testing Sqrt2"
   ]
  },
  {
   "cell_type": "code",
   "execution_count": 11,
   "metadata": {},
   "outputs": [
    {
     "name": "stdout",
     "output_type": "stream",
     "text": [
      "1.4142135623730951454746218587388284504413604736328125000000000000000000000000000000000000000000000000\n"
     ]
    }
   ],
   "source": [
    "# Test the function sqrt2().\n",
    "sqrt2()"
   ]
  },
  {
   "cell_type": "code",
   "execution_count": null,
   "metadata": {},
   "outputs": [],
   "source": []
  }
 ],
 "metadata": {
  "kernelspec": {
   "display_name": "Python 3",
   "language": "python",
   "name": "python3"
  },
  "language_info": {
   "codemirror_mode": {
    "name": "ipython",
    "version": 3
   },
   "file_extension": ".py",
   "mimetype": "text/x-python",
   "name": "python",
   "nbconvert_exporter": "python",
   "pygments_lexer": "ipython3",
   "version": "3.8.3"
  }
 },
 "nbformat": 4,
 "nbformat_minor": 4
}
